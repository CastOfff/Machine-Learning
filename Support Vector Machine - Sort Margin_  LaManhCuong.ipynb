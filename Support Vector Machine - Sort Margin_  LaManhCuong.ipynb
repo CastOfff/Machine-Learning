{
 "cells": [
  {
   "cell_type": "markdown",
   "id": "53a3bfa9",
   "metadata": {},
   "source": [
    "Ví dụ 1: Chúng ta vẫn bắt đầu với một ví dụ trên dữ liệu nhân tạo, tương tự như phần HARD MARGIN. Trước hết ta tạo một bộ dữ liệu có 200 mẫu (N=200) phân đều vào 02 lớp – mỗi lớp 100 phần tử. Mỗi mẫu có 2 chiều (d=2).\n"
   ]
  },
  {
   "cell_type": "markdown",
   "id": "341053d6",
   "metadata": {},
   "source": [
    "Cách 1. Tự xây dựng các bước giải bài toán ràng buộc: Phương pháp giải bài toán Lagrange đối ngẫu g(λ) để tìm λ, sau đó thay vào tính w, w0 (bám theo công thức được xây dựng trong phần lý thuyết)\n"
   ]
  },
  {
   "cell_type": "code",
   "execution_count": 1,
   "id": "86dcf459",
   "metadata": {},
   "outputs": [],
   "source": [
    "# generate data\n",
    "# list of points\n",
    "import numpy as np\n",
    "import matplotlib.pyplot as plt\n",
    "from scipy.spatial.distance import cdist\n",
    "np.random.seed(21)\n",
    "from matplotlib.backends.backend_pdf import PdfPages\n",
    "\n",
    "\n",
    "means = [[2, 2], [4, 1]]\n",
    "cov = [[.3, .2], [.2, .3]]\n",
    "N = 100\n",
    "X0 = np.random.multivariate_normal(means[0], cov, N)\n",
    "X1 = np.random.multivariate_normal(means[1], cov, N)\n",
    "X1[-1, :] = [2.7, 2]\n",
    "X = np.concatenate((X0.T, X1.T), axis = 1)\n",
    "y = np.concatenate((np.ones((1, N)), -1*np.ones((1, N))), axis = 1)\n"
   ]
  },
  {
   "cell_type": "code",
   "execution_count": 2,
   "id": "03fd7db6",
   "metadata": {},
   "outputs": [
    {
     "data": {
      "image/png": "[encoded data removed]",
      "text/plain": [
       "<Figure size 500x500 with 1 Axes>"
      ]
     },
     "metadata": {},
     "output_type": "display_data"
    }
   ],
   "source": [
    "import matplotlib.pyplot as plt\n",
    "fig, ax = plt.subplots(figsize=(5, 5))\n",
    "\n",
    "ani = plt.cla()\n",
    "#plot points\n",
    "ani = plt.plot(X0.T[0, :], X0.T[1, :], 'b^', markersize = 5, alpha = .8)\n",
    "ani = plt.plot(X1.T[0, :], X1.T[1, :], 'ro', markersize = 5, alpha = .8)\n",
    "ani = plt.axis([-1 , 6, -1, 6])\n",
    "plt.show()\n"
   ]
  },
  {
   "cell_type": "code",
   "execution_count": 3,
   "id": "2bc64689",
   "metadata": {},
   "outputs": [],
   "source": [
    "from sklearn.svm import SVC\n",
    "C = 100\n",
    "clf = SVC(kernel = 'linear', C = C)\n",
    "clf.fit(X.T, y.ravel())\n",
    "\n",
    "w_sklearn = clf.coef_.reshape(-1, 1)\n",
    "b_sklearn = clf.intercept_[0]"
   ]
  },
  {
   "cell_type": "code",
   "execution_count": 4,
   "id": "5f974c48",
   "metadata": {},
   "outputs": [
    {
     "name": "stdout",
     "output_type": "stream",
     "text": [
      "lambda = \n",
      " [[8.49521168e-09 2.28019770e-08 5.20318603e-08 1.00362028e-08\n",
      "  5.72230161e-09 4.03665689e-09 9.49322648e-09 9.66963407e-09\n",
      "  5.87872821e-09 9.97869323e-09 3.38295949e-08 8.65612107e+01\n",
      "  8.96678954e-09 3.95233167e-09 5.07686752e-09 3.33356397e-09\n",
      "  2.81824209e+01 3.70532604e-09 4.21582769e-09 5.90903774e-09\n",
      "  5.85241969e-09 3.65211347e-09 1.01611034e-08 2.75569113e-08\n",
      "  3.64212583e-08 4.82977104e-09 4.46937814e-09 5.60793255e-09\n",
      "  3.86694829e-09 3.69067251e-09 4.24754317e-09 1.27718916e-08\n",
      "  4.37347243e-09 9.52015181e-09 4.11498756e-09 6.35147917e-09\n",
      "  1.08517578e-07 3.09524028e-09 2.95135117e-09 1.09162746e-08\n",
      "  2.07909371e-08 1.06429323e-08 3.91210618e-09 3.57013492e-09\n",
      "  2.23388200e-08 3.19154757e-08 3.61074960e-09 5.35570952e-09\n",
      "  3.37238889e-09 4.22246772e-08 1.25193204e-08 6.09783808e-09\n",
      "  4.12675055e-09 5.30308638e-09 3.20345666e-08 7.32305964e-09\n",
      "  2.48972727e-08 2.39828854e-08 1.18875284e-08 2.90249843e-08\n",
      "  4.80431490e-09 9.80642912e-09 2.09423738e-08 1.26320117e-08\n",
      "  4.39182757e-09 3.28182947e-08 5.08035004e-09 9.04361552e-09\n",
      "  4.22951210e-09 5.44717312e-09 9.19691824e-09 6.26331661e-09\n",
      "  7.04937433e-09 1.13745861e-08 7.32890515e-09 5.84490401e-09\n",
      "  2.70542418e-09 5.14490608e-09 1.38916829e-08 3.33505254e-08\n",
      "  1.30490637e-08 4.42684400e-09 1.14495238e-08 7.16424468e-09\n",
      "  3.87604918e-09 5.20799347e-09 5.61661844e-08 8.73047351e-09\n",
      "  2.83497566e-08 1.00333607e-08 2.72062865e-08 3.70248120e-09\n",
      "  1.56575653e-08 4.89430309e-09 8.58557301e-09 3.89428807e-09\n",
      "  3.36938677e-08 5.09689359e-09 5.20116866e-09 4.45307418e-09\n",
      "  5.70831474e-09 3.22290596e-09 6.61892662e-09 3.46955375e-09\n",
      "  6.38969733e-09 3.64153422e-09 7.01142588e-09 5.62394672e-09\n",
      "  3.55689290e-09 5.56885657e-09 4.71719268e-09 5.78980700e-09\n",
      "  7.08656874e-09 5.11267213e-09 2.97154332e-09 7.12235819e-09\n",
      "  2.95097869e-09 3.73757703e-09 6.45579470e-09 3.46284496e-09\n",
      "  7.01079207e-09 5.86261362e-09 4.01031562e-09 3.13630883e-08\n",
      "  2.62874668e-08 3.59551695e-09 7.63679124e-09 3.31345927e-09\n",
      "  3.96893733e-09 4.62415121e-09 4.30016529e-09 4.73598692e-09\n",
      "  3.81951595e-09 3.55645970e-09 3.65268241e-09 4.16304248e-09\n",
      "  5.89035875e-09 3.79549815e-09 5.92397515e-09 4.89829519e-09\n",
      "  6.09027769e-09 3.07479485e-09 3.86190469e-09 1.47436318e+01\n",
      "  3.24501684e-09 7.17222311e-09 4.49214564e-09 5.94696617e-09\n",
      "  6.49642196e-09 5.99102328e-09 3.40091815e-09 4.26726186e-09\n",
      "  4.29243346e-09 7.10456294e-09 4.60975418e-09 4.42377668e-09\n",
      "  6.68427266e-09 6.50208052e-09 1.13936527e-08 9.63217808e-09\n",
      "  2.95207437e-09 5.05275220e-09 6.99838322e-09 4.11004166e-07\n",
      "  6.75262146e-09 6.91594983e-08 6.80177843e-09 6.44000869e-09\n",
      "  3.70198624e-09 3.21641919e-09 6.61806595e-09 4.70853537e-09\n",
      "  6.05778194e-09 3.52518187e-09 5.21548133e-09 7.25493976e-09\n",
      "  4.41965460e-09 7.31644801e-09 2.41988633e-09 3.28768599e-09\n",
      "  7.45666651e-09 3.63886541e-09 6.81604078e-09 2.83897740e-09\n",
      "  5.74569665e-09 6.43617357e-09 7.07490550e-09 5.48458391e-09\n",
      "  6.50847543e-09 3.29083310e-09 5.17290525e-09 6.39263993e-09\n",
      "  6.36324696e-09 6.43902039e-09 5.94659235e-09 4.70172053e-09\n",
      "  4.67773467e-09 6.54897669e-09 5.48426103e-09 1.00000000e+02]]\n"
     ]
    }
   ],
   "source": [
    "from cvxopt import matrix, solvers\n",
    "# build K\n",
    "V = np.concatenate((X0.T, -X1.T), axis = 1)\n",
    "K = matrix(V.T.dot(V))\n",
    "\n",
    "p = matrix(-np.ones((2*N, 1)))\n",
    "# build A, b, G, h\n",
    "G = matrix(np.vstack((-np.eye(2*N), np.eye(2*N))))\n",
    "\n",
    "h = matrix(np.vstack((np.zeros((2*N, 1)), C*np.ones((2*N, 1)))))\n",
    "A = matrix(y.reshape((-1, 2*N)))\n",
    "b = matrix(np.zeros((1, 1)))\n",
    "solvers.options['show_progress'] = False\n",
    "sol = solvers.qp(K, p, G, h, A, b)\n",
    "\n",
    "l = np.array(sol['x'])\n",
    "print('lambda = \\n', l.T)\n"
   ]
  },
  {
   "cell_type": "code",
   "execution_count": 5,
   "id": "5b304cad",
   "metadata": {},
   "outputs": [
    {
     "name": "stdout",
     "output_type": "stream",
     "text": [
      "w_dual =  [[-1.7209464   1.36773208]]\n",
      "b_dual =  3.157639627752344\n"
     ]
    }
   ],
   "source": [
    "S = np.where(l > 1e-5)[0] # support set\n",
    "S2 = np.where(l < .999*C)[0]\n",
    "\n",
    "M = [val for val in S if val in S2] # intersection of two lists\n",
    "\n",
    "XT = X.T # we need each column to be one data point in this alg\n",
    "VS = V[:, S]\n",
    "lS = l[S]\n",
    "yM = y[:, M]\n",
    "XM = X[:, M]\n",
    "\n",
    "w_dual = VS.dot(lS).reshape(-1, 1)\n",
    "b_dual = np.mean(yM.T - w_dual.T.dot(XM))\n",
    "print('w_dual = ', w_dual.T)\n",
    "print('b_dual = ', b_dual)\n",
    "w = w_dual "
   ]
  },
  {
   "cell_type": "markdown",
   "id": "f3990466",
   "metadata": {},
   "source": [
    "Cách 2. Xây dựng phương pháp giải bài toán tối ưu không ràng buộc"
   ]
  },
  {
   "cell_type": "code",
   "execution_count": 6,
   "id": "ec3b2c7f",
   "metadata": {},
   "outputs": [
    {
     "name": "stdout",
     "output_type": "stream",
     "text": [
      "Gradient different: 0.000000\n"
     ]
    }
   ],
   "source": [
    "X0_bar = np.vstack((X0.T, np.ones((1, N)))) # extended data\n",
    "X1_bar = np.vstack((X1.T, np.ones((1, N)))) # extended data\n",
    "\n",
    "\n",
    "Z = np.hstack((X0_bar, - X1_bar)) # as in (22)\n",
    "lam = 1./C\n",
    "\n",
    "\n",
    "def cost(w):\n",
    "    u = w.T.dot(Z) # as in (23)\n",
    "    return (np.sum(np.maximum(0, 1 - u)) + \\\n",
    "        .5*lam*np.sum(w*w)) - .5*lam*w[-1]*w[-1] # no bias\n",
    "\n",
    "\n",
    "def grad(w):\n",
    "    u = w.T.dot(Z) # as in (23)\n",
    "    H = np.where(u < 1)[1]\n",
    "    ZS = Z[:, H]\n",
    "    g = (-np.sum(ZS, axis = 1, keepdims = True) + lam*w)\n",
    "    g[-1] -= lam*w[-1] # no weight decay on bias\n",
    "    return g\n",
    "\n",
    "\n",
    "eps = 1e-6\n",
    "def num_grad(w):\n",
    "    g = np.zeros_like(w)\n",
    "    for i in range(len(w)):\n",
    "        wp = w.copy()\n",
    "        wm = w.copy()\n",
    "        wp[i] += eps\n",
    "        wm[i] -= eps\n",
    "        g[i] = (cost(wp) - cost(wm))/(2*eps)\n",
    "    return g\n",
    "\n",
    "\n",
    "w0 = np.random.randn(X0_bar.shape[0], 1)\n",
    "g1 = grad(w0)\n",
    "g2 = num_grad(w0)\n",
    "diff = np.linalg.norm(g1 - g2)\n",
    "print('Gradient different: %f' %diff)\n"
   ]
  },
  {
   "cell_type": "code",
   "execution_count": 7,
   "id": "2490e840",
   "metadata": {},
   "outputs": [
    {
     "name": "stdout",
     "output_type": "stream",
     "text": [
      "iter 1 cost: 268.172459\n",
      "iter 10001 cost: 2.291049\n",
      "iter 20001 cost: 2.286196\n",
      "iter 30001 cost: 2.282661\n",
      "iter 40001 cost: 2.279391\n",
      "iter 50001 cost: 2.275553\n",
      "iter 60001 cost: 2.272514\n",
      "iter 70001 cost: 2.272747\n",
      "iter 80001 cost: 2.286520\n",
      "iter 90001 cost: 2.272603\n",
      "w_hinge =  [[-1.70182769  1.37533109]]\n",
      "b_hinge =  [3.08342659]\n"
     ]
    }
   ],
   "source": [
    "def grad_descent(w0, eta):\n",
    "    w = w0\n",
    "    it = 0\n",
    "    while it < 100000:\n",
    "        it = it + 1\n",
    "        g = grad(w)\n",
    "        w -= eta*g\n",
    "        if (it % 10000) == 1:\n",
    "            print('iter %d' %it + ' cost: %f' %cost(w))\n",
    "        if np.linalg.norm(g) < 1e-5:\n",
    "            break\n",
    "    return w\n",
    "w0 = np.random.randn(X0_bar.shape[0], 1)\n",
    "w = grad_descent(w0, 0.001)\n",
    "w_hinge = w[:-1].reshape(-1, 1)\n",
    "b_hinge = w[-1]\n",
    "print('w_hinge = ', w_hinge.T)\n",
    "print('b_hinge = ', b_hinge)"
   ]
  },
  {
   "cell_type": "markdown",
   "id": "ac040e41",
   "metadata": {},
   "source": [
    "Bài tập thực hành 1: Sử dụng bộ số w và b đã tìm được để dự đoán phân lớp y của một điểm dữ liệu mới. Sau đó tính độ chính xác của thuật toán trên tập dữ liệu đã cho.# "
   ]
  },
  {
   "cell_type": "code",
   "execution_count": 8,
   "id": "10606f05",
   "metadata": {},
   "outputs": [
    {
     "name": "stdout",
     "output_type": "stream",
     "text": [
      "Accuracy with sklearn =  0.995\n",
      "Confusion matrix with sklearn = \n",
      " [[ 99   1]\n",
      " [  0 100]]\n",
      "Accuracy with dual =  0.995\n",
      "Confusion matrix with dual = \n",
      " [[ 99   1]\n",
      " [  0 100]]\n",
      "Accuracy with hinge=  0.995\n",
      "Confusion matrix with hinge = \n",
      " [[ 99   1]\n",
      " [  0 100]]\n"
     ]
    }
   ],
   "source": [
    "def predict(X, w, b):\n",
    "    return np.sign(w.T.dot(X) + b)\n",
    "\n",
    "from sklearn.metrics import accuracy_score, confusion_matrix\n",
    "\n",
    "y_pred_sklearn = predict(X, w_sklearn, b_sklearn)\n",
    "print('Accuracy with sklearn = ', accuracy_score(y.ravel(), y_pred_sklearn.ravel()))\n",
    "print('Confusion matrix with sklearn = \\n', confusion_matrix(y.ravel(), y_pred_sklearn.ravel()))\n",
    "\n",
    "y_pred_dual = predict(X, w_dual, b_dual)\n",
    "print('Accuracy with dual = ', np.mean(y_pred_dual.ravel() == y.ravel()))\n",
    "print('Confusion matrix with dual = \\n', confusion_matrix(y.ravel(), y_pred_dual.ravel()))\n",
    "\n",
    "y_pred_hinge = predict(X, w_hinge, b_hinge)\n",
    "print('Accuracy with hinge= ', np.mean(y_pred_hinge.ravel() == y.ravel()))\n",
    "print('Confusion matrix with hinge = \\n', confusion_matrix(y.ravel(), y_pred_hinge.ravel()))"
   ]
  },
  {
   "cell_type": "markdown",
   "id": "978638e6",
   "metadata": {},
   "source": [
    "Cách 3. Sử dụng thư viện: "
   ]
  },
  {
   "cell_type": "code",
   "execution_count": 9,
   "id": "bb3f4d95",
   "metadata": {},
   "outputs": [
    {
     "name": "stdout",
     "output_type": "stream",
     "text": [
      "w =  [[-1.7210582   1.36767249]]\n",
      "b =  [3.15807685]\n"
     ]
    }
   ],
   "source": [
    "from sklearn.svm import SVC\n",
    "# Copy and put code for generate data here\n",
    "y1 = y.reshape((2*N,))\n",
    "X1 = X.T # each sample is one row\n",
    "clf = SVC(kernel = 'linear', C = 100) # use the same C\n",
    "# if C is small, method will be “SoftMagin SVM”, \n",
    "# if C is large enough, method is near to hard margin\n",
    "clf.fit(X1, y1) \n",
    "\n",
    "\n",
    "w = clf.coef_\n",
    "w0 = clf.intercept_\n",
    "print('w = ', w)\n",
    "print('b = ', w0)\n"
   ]
  },
  {
   "cell_type": "markdown",
   "id": "e1277ebc",
   "metadata": {},
   "source": [
    "Bài tập thực hành 2:"
   ]
  },
  {
   "cell_type": "code",
   "execution_count": 10,
   "id": "0988e3bf",
   "metadata": {},
   "outputs": [
    {
     "name": "stdout",
     "output_type": "stream",
     "text": [
      "[1.245e+01 1.570e+01 8.257e+01 4.771e+02 1.278e-01 1.700e-01 1.578e-01\n",
      " 8.089e-02 2.087e-01 7.613e-02 3.345e-01 8.902e-01 2.217e+00 2.719e+01\n",
      " 7.510e-03 3.345e-02 3.672e-02 1.137e-02 2.165e-02 5.082e-03 1.547e+01\n",
      " 2.375e+01 1.034e+02 7.416e+02 1.791e-01 5.249e-01 5.355e-01 1.741e-01\n",
      " 3.985e-01 1.244e-01]\n",
      "(569, 30)\n",
      "[0 0 0 0 0 0 0 0 0 0 0 0 0 0 0 0 0 0 0 1 1 1 0 0 0 0 0 0 0 0 0 0 0 0 0 0 0\n",
      " 1 0 0 0 0 0 0 0 0 1 0 1 1 1 1 1 0 0 1 0 0 1 1 1 1 0 1 0 0 1 1 1 1 0 1 0 0\n",
      " 1 0 1 0 0 1 1 1 0 0 1 0 0 0 1 1 1 0 1 1 0 0 1 1 1 0 0 1 1 1 1 0 1 1 0 1 1\n",
      " 1 1 1 1 1 1 0 0 0 1 0 0 1 1 1 0 0 1 0 1 0 0 1 0 0 1 1 0 1 1 0 1 1 1 1 0 1\n",
      " 1 1 1 1 1 1 1 1 0 1 1 1 1 0 0 1 0 1 1 0 0 1 1 0 0 1 1 1 1 0 1 1 0 0 0 1 0\n",
      " 1 0 1 1 1 0 1 1 0 0 1 0 0 0 0 1 0 0 0 1 0 1 0 1 1 0 1 0 0 0 0 1 1 0 0 1 1\n",
      " 1 0 1 1 1 1 1 0 0 1 1 0 1 1 0 0 1 0 1 1 1 1 0 1 1 1 1 1 0 1 0 0 0 0 0 0 0\n",
      " 0 0 0 0 0 0 0 1 1 1 1 1 1 0 1 0 1 1 0 1 1 0 1 0 0 1 1 1 1 1 1 1 1 1 1 1 1\n",
      " 1 0 1 1 0 1 0 1 1 1 1 1 1 1 1 1 1 1 1 1 1 0 1 1 1 0 1 0 1 1 1 1 0 0 0 1 1\n",
      " 1 1 0 1 0 1 0 1 1 1 0 1 1 1 1 1 1 1 0 0 0 1 1 1 1 1 1 1 1 1 1 1 0 0 1 0 0\n",
      " 0 1 0 0 1 1 1 1 1 0 1 1 1 1 1 0 1 1 1 0 1 1 0 0 1 1 1 1 1 1 0 1 1 1 1 1 1\n",
      " 1 0 1 1 1 1 1 0 1 1 0 1 1 1 1 1 1 1 1 1 1 1 1 0 1 0 0 1 0 1 1 1 1 1 0 1 1\n",
      " 0 1 0 1 1 0 1 0 1 1 1 1 1 1 1 1 0 0 1 1 1 1 1 1 0 1 1 1 1 1 1 1 1 1 1 0 1\n",
      " 1 1 1 1 1 1 0 1 0 1 1 0 1 1 1 1 1 0 0 1 0 1 0 1 1 1 1 1 0 1 1 0 1 0 1 0 0\n",
      " 1 1 1 0 1 1 1 1 1 1 1 1 1 1 1 0 1 0 0 1 1 1 1 1 1 1 1 1 1 1 1 1 1 1 1 1 1\n",
      " 1 1 1 1 1 1 1 0 0 0 0 0 0 1]\n",
      "Accuracy: 0.9649122807017544\n",
      "[[ 61   2]\n",
      " [  4 104]]\n",
      "              precision    recall  f1-score   support\n",
      "\n",
      "           0       0.94      0.97      0.95        63\n",
      "           1       0.98      0.96      0.97       108\n",
      "\n",
      "    accuracy                           0.96       171\n",
      "   macro avg       0.96      0.97      0.96       171\n",
      "weighted avg       0.97      0.96      0.97       171\n",
      "\n"
     ]
    }
   ],
   "source": [
    "from sklearn import datasets\n",
    "\n",
    "cancer_data = datasets.load_breast_cancer()\n",
    "\n",
    "# show to test record 5th\n",
    "print(cancer_data.data[5])\n",
    "\n",
    "print(cancer_data.data.shape)\n",
    "#target set\n",
    "print(cancer_data.target)\n",
    "\n",
    "from sklearn.model_selection import train_test_split\n",
    "\n",
    "cancer_data = datasets.load_breast_cancer()\n",
    "\n",
    "X_train, X_test, y_train, y_test = train_test_split(cancer_data.data,cancer_data.target,test_size=0.3,random_state=109)\n",
    "\n",
    "from sklearn import svm\n",
    "\n",
    "clf = svm.SVC(kernel='linear') # Linear Kernel\n",
    "\n",
    "clf.fit(X_train, y_train)\n",
    "\n",
    "y_pred = clf.predict(X_test)\n",
    "\n",
    "from sklearn import metrics\n",
    "\n",
    "print(\"Accuracy:\",metrics.accuracy_score(y_test, y_pred))\n",
    "\n",
    "from sklearn.metrics import classification_report, confusion_matrix\n",
    "\n",
    "print(confusion_matrix(y_test,y_pred))\n",
    "\n",
    "print(classification_report(y_test,y_pred))"
   ]
  },
  {
   "cell_type": "markdown",
   "id": "c2af6f2c",
   "metadata": {},
   "source": [
    "Ví dụ 2 (Bài tập tự giải)"
   ]
  },
  {
   "cell_type": "code",
   "execution_count": 12,
   "id": "a0a7545e",
   "metadata": {},
   "outputs": [
    {
     "name": "stdout",
     "output_type": "stream",
     "text": [
      "[-1, -1, -1, -1, -1, -1, -1, -1, -1, -1, -1, -1, -1, -1, -1, -1, -1, -1, -1, -1, -1, -1, -1, -1, -1, -1, -1, -1, -1, -1, -1, -1, -1, -1, -1, -1, -1, -1, -1, -1, -1, -1, -1, -1, -1, -1, -1, -1, -1, -1, -1, -1, -1, -1, -1, -1, -1, -1, -1, -1, -1, -1, -1, -1, -1, -1, -1, -1, -1, -1, -1, -1, -1, -1, -1, -1, -1, -1, -1, -1, -1, -1, -1, -1, -1, -1, -1, -1, -1, -1, -1, -1, -1, -1, -1, -1, -1, 1, 1, 1, 1, 1, 1, 1, 1, 1, 1, 1, 1, 1, 1, 1, 1, 1, 1, 1, 1, 1, 1, 1, 1, 1, 1, 1, 1, 1, 1, 1, 1, 1, 1, 1, 1, 1, 1, 1, 1, 1, 1, 1, 1, 1, 1, 1, 1, 1, 1, 1, 1, 1, 1, 1, 1, 1, 1, 1, 1, 1, 1, 1, 1, 1, 1, 1, 1, 1, 1, 1, 1, 1, 1, 1, 1, 1, 1, 1, 1, 1, 1, 1, 1, 1, 1, 1, 1, 1, 1, 1, 1, 1, 1, 1, 1, 1, 1, 1, 1, 1, 1, 1, 1, 1, 1, 1, 1, 1, 1, 1]\n",
      "Accuracy: 0.7936507936507936\n",
      "[[21  7]\n",
      " [ 6 29]]\n",
      "              precision    recall  f1-score   support\n",
      "\n",
      "          -1       0.78      0.75      0.76        28\n",
      "           1       0.81      0.83      0.82        35\n",
      "\n",
      "    accuracy                           0.79        63\n",
      "   macro avg       0.79      0.79      0.79        63\n",
      "weighted avg       0.79      0.79      0.79        63\n",
      "\n"
     ]
    },
    {
     "data": {
      "image/png": "[encoded data removed]",
      "text/plain": [
       "<Figure size 640x480 with 1 Axes>"
      ]
     },
     "metadata": {},
     "output_type": "display_data"
    }
   ],
   "source": [
    "import numpy as np  # linear algebra\n",
    "import pandas as pd  # data processing, CSV file I/O (e.g. pd.read_csv)\n",
    "\n",
    "main_df = pd.read_csv('C:\\\\Users\\\\TGDD\\\\Desktop\\\\học máy\\\\Support Vector Machine - Soft Margin\\\\sonar.all-data.csv', header=None)\n",
    "main_df\n",
    "main_df[60].value_counts().plot(kind='barh')\n",
    "y_df = main_df[60]\n",
    "targes_label = {'M': 1, 'R': -1}\n",
    "targes_df = [targes_label[item] for item in y_df]\n",
    "print(targes_df)\n",
    "\n",
    "inputs_df = main_df.drop(60, axis=1)\n",
    "\n",
    "x0 = np.ones((inputs_df.shape[0], 1))\n",
    "X = np.concatenate((x0, inputs_df), axis=1)\n",
    "\n",
    "from sklearn.model_selection import train_test_split\n",
    "\n",
    "X_train, X_test, y_train, y_test = train_test_split(X, targes_df, test_size=0.3, random_state=42)\n",
    "\n",
    "from sklearn import svm\n",
    "\n",
    "clf = svm.SVC(kernel='linear')  # Linear Kernel\n",
    "\n",
    "clf.fit(X_train, y_train)\n",
    "\n",
    "y_pred = clf.predict(X_test)\n",
    "\n",
    "from sklearn import metrics\n",
    "\n",
    "print(\"Accuracy:\", metrics.accuracy_score(y_test, y_pred))\n",
    "\n",
    "from sklearn.metrics import classification_report, confusion_matrix\n",
    "\n",
    "print(confusion_matrix(y_test, y_pred))\n",
    "\n",
    "print(classification_report(y_test, y_pred))"
   ]
  },
  {
   "cell_type": "markdown",
   "id": "d5b881cd",
   "metadata": {},
   "source": [
    "Ví dụ 3 (Bài tập tự giải): Lọc thư rác"
   ]
  },
  {
   "cell_type": "code",
   "execution_count": 13,
   "id": "b7738c14",
   "metadata": {},
   "outputs": [
    {
     "name": "stdout",
     "output_type": "stream",
     "text": [
      "(1381,)\n",
      "Accuracy =  0.9370021723388848\n",
      "[[785  40]\n",
      " [ 47 509]]\n"
     ]
    }
   ],
   "source": [
    "import pandas as pd\n",
    "import numpy as np\n",
    "\n",
    "df = pd.read_csv('C:\\\\Users\\\\TGDD\\\\Desktop\\\\học máy\\\\Support Vector Machine - Soft Margin\\\\spambase.data', header=None)\n",
    "\n",
    "# chia dữ liệu thành 2 phần: dữ liệu đầu vào X và dữ liệu đầu ra y\n",
    "X = df.iloc[:, :-1].values\n",
    "y = df.iloc[:, -1].values\n",
    "\n",
    "# chia dữ liệu thành 2 phần: dữ liệu huấn luyện và dữ liệu kiểm tra\n",
    "from sklearn.model_selection import train_test_split\n",
    "\n",
    "X_train, X_test, y_train, y_test = train_test_split(X, y, test_size=0.3)\n",
    "\n",
    "# huấn luyện mô hình\n",
    "from sklearn.svm import SVC\n",
    "\n",
    "svm = SVC(kernel='linear', C = 1.0)\n",
    "svm.fit(X_train, y_train)\n",
    "\n",
    "# dự đoán kết quả\n",
    "y_pred = svm.predict(X_test)\n",
    "print(y_pred.shape)\n",
    "\n",
    "# đánh giá mô hình\n",
    "from sklearn.metrics import accuracy_score, confusion_matrix\n",
    "\n",
    "print('Accuracy = ', accuracy_score(y_test, y_pred))\n",
    "print(confusion_matrix(y_test, y_pred))"
   ]
  },
  {
   "cell_type": "code",
   "execution_count": null,
   "id": "3f104b83",
   "metadata": {},
   "outputs": [],
   "source": []
  }
 ],
 "metadata": {
  "kernelspec": {
   "display_name": "Python 3 (ipykernel)",
   "language": "python",
   "name": "python3"
  },
  "language_info": {
   "codemirror_mode": {
    "name": "ipython",
    "version": 3
   },
   "file_extension": ".py",
   "mimetype": "text/x-python",
   "name": "python",
   "nbconvert_exporter": "python",
   "pygments_lexer": "ipython3",
   "version": "3.9.13"
  }
 },
 "nbformat": 4,
 "nbformat_minor": 5
}
