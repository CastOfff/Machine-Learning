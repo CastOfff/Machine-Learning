{
 "cells": [
  {
   "cell_type": "code",
   "execution_count": 2,
   "outputs": [],
   "source": [
    "import numpy as np\n",
    "means = [[2, 2], [8, 3], [3, 6]]\n",
    "cov = [[1, 0], [0, 1]]\n",
    "N = 500\n",
    "X0 = np.random.multivariate_normal(means[0], cov, N)\n",
    "X1 = np.random.multivariate_normal(means[1], cov, N)\n",
    "X2 = np.random.multivariate_normal(means[2], cov, N)\n",
    "\n",
    "# each column is a datapoint\n",
    "X = np.concatenate((X0, X1, X2), axis = 0).T\n",
    "# extended data\n",
    "X = np.concatenate((np.ones((1, 3*N)), X), axis = 0)\n",
    "C = 3\n",
    "\n",
    "original_label = np.asarray([0]*N + [1]*N + [2]*N).T"
   ],
   "metadata": {
    "collapsed": false,
    "ExecuteTime": {
     "end_time": "2023-05-25T20:19:13.002573700Z",
     "start_time": "2023-05-25T20:19:12.986944300Z"
    }
   }
  },
  {
   "cell_type": "code",
   "execution_count": 3,
   "outputs": [],
   "source": [
    "def softmax(Z):\n",
    "    e_Z = np.exp(Z)\n",
    "    A = e_Z / e_Z.sum(axis = 0)\n",
    "    return A"
   ],
   "metadata": {
    "collapsed": false,
    "ExecuteTime": {
     "end_time": "2023-05-25T20:21:17.101026400Z",
     "start_time": "2023-05-25T20:21:17.085395700Z"
    }
   }
  },
  {
   "cell_type": "code",
   "execution_count": 28,
   "outputs": [
    {
     "name": "stdout",
     "output_type": "stream",
     "text": [
      "[[1 1 1 ... 0 0 0]\n",
      " [0 0 0 ... 0 0 0]\n",
      " [0 0 0 ... 1 1 1]]\n"
     ]
    }
   ],
   "source": [
    "## One-hot coding\n",
    "y = original_label\n",
    "from scipy import sparse\n",
    "def convert_labels(y, C = C):\n",
    "    Y = sparse.coo_matrix((np.ones_like(y),\n",
    "        (y, np.arange(len(y)))), shape = (C, len(y))).toarray()\n",
    "    return Y\n",
    "\n",
    "Y = convert_labels(y, C)\n",
    "print(Y)"
   ],
   "metadata": {
    "collapsed": false,
    "ExecuteTime": {
     "end_time": "2023-05-25T20:37:56.548435200Z",
     "start_time": "2023-05-25T20:37:56.543787900Z"
    }
   }
  },
  {
   "cell_type": "code",
   "execution_count": 31,
   "outputs": [],
   "source": [
    "W_init = np.random.randn(X.shape[0], C)\n",
    "# cost or loss function\n",
    "def cost(X, Y, W):\n",
    "    A = softmax(W.T.dot(X))\n",
    "    return -np.sum(Y*np.log(A))"
   ],
   "metadata": {
    "collapsed": false,
    "ExecuteTime": {
     "end_time": "2023-05-25T20:39:17.809522300Z",
     "start_time": "2023-05-25T20:39:17.804401Z"
    }
   }
  },
  {
   "cell_type": "code",
   "execution_count": 36,
   "outputs": [],
   "source": [
    "def grad(X, Y, W):\n",
    "    A = softmax((W.T.dot(X)))\n",
    "    E = A - Y\n",
    "    return X.dot(E.T)"
   ],
   "metadata": {
    "collapsed": false,
    "ExecuteTime": {
     "end_time": "2023-05-25T20:50:26.031368800Z",
     "start_time": "2023-05-25T20:50:26.015729300Z"
    }
   }
  },
  {
   "cell_type": "code",
   "execution_count": 37,
   "outputs": [
    {
     "name": "stdout",
     "output_type": "stream",
     "text": [
      "2.251816958961235e-06\n"
     ]
    }
   ],
   "source": [
    "def numerical_grad(X, Y, W, cost):\n",
    "    eps = 1e-6\n",
    "    g = np.zeros_like(W)\n",
    "    for i in range(W.shape[0]):\n",
    "        for j in range(W.shape[1]):\n",
    "            W_p = W.copy()\n",
    "            W_n = W.copy()\n",
    "            W_p[i, j] += eps\n",
    "            W_n[i, j] -= eps\n",
    "            g[i,j] = (cost(X, Y, W_p) - cost(X, Y, W_n))/(2*eps)\n",
    "    return g\n",
    "\n",
    "g1 = grad(X, Y, W_init)\n",
    "g2 = numerical_grad(X, Y, W_init, cost)\n",
    "\n",
    "print(np.linalg.norm(g1 - g2))"
   ],
   "metadata": {
    "collapsed": false,
    "ExecuteTime": {
     "end_time": "2023-05-25T20:53:42.505448800Z",
     "start_time": "2023-05-25T20:53:42.479449200Z"
    }
   }
  },
  {
   "cell_type": "code",
   "execution_count": 70,
   "outputs": [],
   "source": [
    "def softmax_regression(X, y, W_init, eta, tol = 1e-4, max_count = 10000):\n",
    "    W = [W_init]\n",
    "    C = W_init.shape[1]\n",
    "    Y = convert_labels(y, C)\n",
    "    N = X.shape[1]\n",
    "    d = X.shape[0]\n",
    "\n",
    "    count = 0\n",
    "    check_w_after = 20\n",
    "    while count < max_count:\n",
    "        # mix data\n",
    "        mix_id = np.random.permutation(1000)\n",
    "        for i in mix_id:\n",
    "            xi = X[:, i].reshape(d, 1)\n",
    "            yi = Y[:, i].reshape(C, 1)\n",
    "            ai = softmax(np.dot(W[-1].T, xi))\n",
    "            W_new = W[-1] + eta*xi.dot((yi - ai).T)\n",
    "            count += 1\n",
    "            # stopping criteria\n",
    "            if count%check_w_after == 0:\n",
    "                if np.linalg.norm(W_new - W[-check_w_after]) < tol:\n",
    "                    return W\n",
    "            W.append(W_new)\n",
    "    return W\n",
    "eta = .05\n",
    "d = X.shape[0]\n",
    "W_init = np.random.randn(d, C)\n",
    "\n",
    "W = softmax_regression(X, y, W_init, eta)\n",
    "# W[-1] is the solution, W is all history of weights"
   ],
   "metadata": {
    "collapsed": false,
    "ExecuteTime": {
     "end_time": "2023-05-25T21:46:43.040092800Z",
     "start_time": "2023-05-25T21:46:42.902242Z"
    }
   }
  },
  {
   "cell_type": "code",
   "execution_count": 47,
   "outputs": [],
   "source": [
    "def softmax_stable(Z):\n",
    "    e_Z = np.exp(Z - np.max(Z, axis = 0, keepdims = True))\n",
    "    A = e_Z / e_Z.sum(axis = 0)\n",
    "    return A"
   ],
   "metadata": {
    "collapsed": false,
    "ExecuteTime": {
     "end_time": "2023-05-25T21:05:15.096090200Z",
     "start_time": "2023-05-25T21:05:15.096090200Z"
    }
   }
  },
  {
   "cell_type": "code",
   "execution_count": 50,
   "outputs": [
    {
     "name": "stdout",
     "output_type": "stream",
     "text": [
      "[[ 7.81560096 -4.4212588  -4.01323539]\n",
      " [-0.66010967  1.88744747 -0.6476996 ]\n",
      " [-1.67070119 -1.52805836  1.29750006]]\n"
     ]
    }
   ],
   "source": [
    "print(W[-1])"
   ],
   "metadata": {
    "collapsed": false,
    "ExecuteTime": {
     "end_time": "2023-05-25T21:06:56.632539500Z",
     "start_time": "2023-05-25T21:06:56.629255600Z"
    }
   }
  },
  {
   "cell_type": "code",
   "execution_count": 53,
   "outputs": [
    {
     "name": "stdout",
     "output_type": "stream",
     "text": [
      "[0 0 0 ... 2 2 2]\n"
     ]
    }
   ],
   "source": [
    "def pred(W, X):\n",
    "    A = softmax_stable(W.T.dot(X))\n",
    "    return np.argmax(A, axis = 0)\n",
    "pred(W[-1],X)"
   ],
   "metadata": {
    "collapsed": false,
    "ExecuteTime": {
     "end_time": "2023-05-25T21:09:04.217920600Z",
     "start_time": "2023-05-25T21:09:04.213833Z"
    }
   }
  },
  {
   "cell_type": "code",
   "execution_count": 54,
   "outputs": [],
   "source": [
    "import zipfile\n",
    "\n",
    "# Unzip the archive\n",
    "local_zip = 'C:\\\\Users\\\\TGDD\\\\Desktop\\\\học máy\\\\cuối kỳ\\\\./animals.zip'\n",
    "zip_ref = zipfile.ZipFile(local_zip, 'r')\n",
    "zip_ref.extractall()\n",
    "\n",
    "zip_ref.close()"
   ],
   "metadata": {
    "collapsed": false,
    "ExecuteTime": {
     "end_time": "2023-05-25T21:10:40.887097800Z",
     "start_time": "2023-05-25T21:10:36.465386900Z"
    }
   }
  },
  {
   "cell_type": "code",
   "execution_count": 55,
   "outputs": [
    {
     "name": "stdout",
     "output_type": "stream",
     "text": [
      "Contents of base directory:\n",
      "['train', 'validation']\n",
      "\n",
      "Contents of train directory:\n",
      "['cats', 'chickens', 'dogs']\n",
      "\n",
      "Contents of validation directory:\n",
      "['cats', 'chickens', 'dogs']\n"
     ]
    }
   ],
   "source": [
    "import os\n",
    "\n",
    "base_dir = 'animals'\n",
    "\n",
    "print(\"Contents of base directory:\")\n",
    "print(os.listdir(base_dir))\n",
    "\n",
    "print(\"\\nContents of train directory:\")\n",
    "print(os.listdir(f'{base_dir}/train'))\n",
    "\n",
    "print(\"\\nContents of validation directory:\")\n",
    "print(os.listdir(f'{base_dir}/validation'))"
   ],
   "metadata": {
    "collapsed": false,
    "ExecuteTime": {
     "end_time": "2023-05-25T21:10:59.379801700Z",
     "start_time": "2023-05-25T21:10:59.364174Z"
    }
   }
  },
  {
   "cell_type": "code",
   "execution_count": 56,
   "outputs": [],
   "source": [
    "train_dir = os.path.join(base_dir, 'train')\n",
    "validation_dir = os.path.join(base_dir, 'validation')\n",
    "\n",
    "# Directory with training pictures\n",
    "train_cats_dir = os.path.join(train_dir, 'cats')\n",
    "train_dogs_dir = os.path.join(train_dir, 'dogs')\n",
    "train_chickens_dir = os.path.join(train_dir, 'chickens')\n",
    "\n",
    "# Directory with validation pictures\n",
    "validation_cats_dir = os.path.join(validation_dir, 'cats')\n",
    "validation_dogs_dir = os.path.join(validation_dir, 'dogs')\n",
    "validation_chickens_dir = os.path.join(validation_dir, 'chickens')"
   ],
   "metadata": {
    "collapsed": false,
    "ExecuteTime": {
     "end_time": "2023-05-25T21:11:10.925591Z",
     "start_time": "2023-05-25T21:11:10.878715200Z"
    }
   }
  },
  {
   "cell_type": "code",
   "execution_count": 57,
   "outputs": [
    {
     "name": "stdout",
     "output_type": "stream",
     "text": [
      "['cat.0.jpg', 'cat.1.jpg', 'cat.10.jpg', 'cat.100.jpg', 'cat.101.jpg', 'cat.102.jpg', 'cat.103.jpg', 'cat.104.jpg', 'cat.105.jpg', 'cat.106.jpg']\n",
      "['dog.0.jpg', 'dog.1.jpg', 'dog.10.jpg', 'dog.100.jpg', 'dog.101.jpg', 'dog.102.jpg', 'dog.103.jpg', 'dog.104.jpg', 'dog.105.jpg', 'dog.106.jpg']\n",
      "['10.jpeg', '100.jpeg', '1000.jpeg', '1001.jpeg', '1010.jpeg', '1013.jpeg', '1016.jpeg', '1017.jpeg', '1018.jpeg', '102.jpeg']\n",
      "total training cat images : 1000\n",
      "total training dog images : 1000\n",
      "total training chicken images : 1000\n",
      "total validation cat images : 500\n",
      "total validation dog images : 500\n",
      "total validation chicken images : 500\n"
     ]
    }
   ],
   "source": [
    "train_cat_fnames = os.listdir(train_cats_dir)\n",
    "train_dog_fnames = os.listdir(train_dogs_dir)\n",
    "train_chicken_fnames = os.listdir(train_chickens_dir)\n",
    "\n",
    "validation_cat_fnames = os.listdir(validation_cats_dir)\n",
    "validation_dog_fnames = os.listdir(validation_dogs_dir)\n",
    "validation_chicken_fnames = os.listdir(validation_chickens_dir)\n",
    "\n",
    "print(train_cat_fnames[:10])\n",
    "print(train_dog_fnames[:10])\n",
    "print(train_chicken_fnames[:10])\n",
    "\n",
    "print('total training cat images :', len(train_cat_fnames))\n",
    "print('total training dog images :', len(train_dog_fnames))\n",
    "print('total training chicken images :', len(train_chicken_fnames))\n",
    "\n",
    "print('total validation cat images :', len(validation_cat_fnames))\n",
    "print('total validation dog images :', len(validation_dog_fnames))\n",
    "print('total validation chicken images :', len(validation_chicken_fnames))"
   ],
   "metadata": {
    "collapsed": false,
    "ExecuteTime": {
     "end_time": "2023-05-25T21:11:27.658679200Z",
     "start_time": "2023-05-25T21:11:27.643031Z"
    }
   }
  },
  {
   "cell_type": "code",
   "execution_count": 61,
   "outputs": [],
   "source": [
    "image_size = 512"
   ],
   "metadata": {
    "collapsed": false,
    "ExecuteTime": {
     "end_time": "2023-05-25T21:18:38.738467400Z",
     "start_time": "2023-05-25T21:18:38.718619200Z"
    }
   }
  },
  {
   "cell_type": "code",
   "execution_count": 67,
   "outputs": [
    {
     "name": "stderr",
     "output_type": "stream",
     "text": [
      "100%|██████████| 3000/3000 [04:26<00:00, 11.26it/s]\n"
     ]
    }
   ],
   "source": [
    "import cv2\n",
    "from tqdm import tqdm\n",
    "from skimage.feature import hog\n",
    "\n",
    "X_train = np.zeros((3000, int(image_size**2 / 32)))\n",
    "\n",
    "train_cat_img_paths = [\n",
    "    os.path.join(train_cats_dir, fname) for fname in train_cat_fnames\n",
    "    ]\n",
    "train_dog_img_paths = [\n",
    "    os.path.join(train_dogs_dir, fname) for fname in train_dog_fnames\n",
    "    ]\n",
    "train_chicken_img_paths = [\n",
    "    os.path.join(train_chickens_dir, fname) for fname in train_chicken_fnames\n",
    "    ]\n",
    "\n",
    "count = 0\n",
    "\n",
    "for img_path in tqdm(train_cat_img_paths + train_dog_img_paths + train_chicken_img_paths):\n",
    "    img = cv2.resize(cv2.imread(img_path), (image_size, image_size))\n",
    "\n",
    "    fd = hog(img, orientations=8, pixels_per_cell=(16, 16),\n",
    "                    cells_per_block=(1, 1), channel_axis=-1)\n",
    "\n",
    "    X_train[count] = fd\n",
    "    count += 1\n",
    "\n",
    "y_train = 1000 * [0] + 1000 * [1] + 1000 * [2]"
   ],
   "metadata": {
    "collapsed": false,
    "ExecuteTime": {
     "end_time": "2023-05-25T21:43:41.759639900Z",
     "start_time": "2023-05-25T21:39:15.344997900Z"
    }
   }
  },
  {
   "cell_type": "code",
   "execution_count": 63,
   "outputs": [
    {
     "name": "stderr",
     "output_type": "stream",
     "text": [
      "100%|██████████| 1500/1500 [02:29<00:00, 10.03it/s]\n"
     ]
    }
   ],
   "source": [
    "from tqdm import tqdm\n",
    "\n",
    "X_test = np.zeros((1500, int(image_size**2 / 32)))\n",
    "\n",
    "validation_cat_img_paths = [\n",
    "    os.path.join(validation_cats_dir, fname) for fname in validation_cat_fnames\n",
    "    ]\n",
    "validation_dog_img_paths = [\n",
    "    os.path.join(validation_dogs_dir, fname) for fname in validation_dog_fnames\n",
    "    ]\n",
    "validation_chicken_img_paths = [\n",
    "    os.path.join(validation_chickens_dir, fname) for fname in validation_chicken_fnames\n",
    "    ]\n",
    "\n",
    "count = 0\n",
    "\n",
    "for img_path in tqdm(validation_cat_img_paths + validation_dog_img_paths + validation_chicken_img_paths):\n",
    "    img = cv2.resize(cv2.imread(img_path), (image_size, image_size))\n",
    "\n",
    "    fd = hog(img, orientations=8, pixels_per_cell=(16, 16),\n",
    "                    cells_per_block=(1, 1), channel_axis=-1)\n",
    "\n",
    "    X_test[count] = fd\n",
    "    count += 1\n",
    "\n",
    "y_test = 500 * ['cat'] + 500 * ['dog'] + 500 * ['chicken']"
   ],
   "metadata": {
    "collapsed": false,
    "ExecuteTime": {
     "end_time": "2023-05-25T21:28:47.324699700Z",
     "start_time": "2023-05-25T21:26:17.727788600Z"
    }
   }
  },
  {
   "cell_type": "code",
   "execution_count": 64,
   "outputs": [],
   "source": [
    "from sklearn.decomposition import PCA\n",
    "\n",
    "pca = PCA(n_components=3)\n",
    "X_train_pca = pca.fit_transform(X_train)"
   ],
   "metadata": {
    "collapsed": false,
    "ExecuteTime": {
     "end_time": "2023-05-25T21:29:27.455680900Z",
     "start_time": "2023-05-25T21:29:25.782818600Z"
    }
   }
  },
  {
   "cell_type": "code",
   "execution_count": 73,
   "outputs": [
    {
     "name": "stdout",
     "output_type": "stream",
     "text": [
      "[[-0.25196065 -0.77417267 -0.3310273 ]\n",
      " [ 0.24591986 -1.29812637  1.2106165 ]\n",
      " [-0.43723934 -0.23176214 -0.05500634]\n",
      " ...\n",
      " [ 0.2524991  -0.37585265 -0.54593013]\n",
      " [ 0.25691144 -1.12746251 -0.38905626]\n",
      " [-0.6761117  -0.19165601  1.09340338]]\n"
     ]
    }
   ],
   "source": [
    "W_init = np.random.randn(X_train.shape[0], C)\n",
    "W = softmax_regression(X_train, y_train, W_init, eta)\n",
    "print(W[-1])"
   ],
   "metadata": {
    "collapsed": false,
    "ExecuteTime": {
     "end_time": "2023-05-25T21:47:05.470127500Z",
     "start_time": "2023-05-25T21:47:05.453993600Z"
    }
   }
  },
  {
   "cell_type": "code",
   "execution_count": 81,
   "outputs": [
    {
     "name": "stdout",
     "output_type": "stream",
     "text": [
      "[0 0 0 ... 0 0 0]\n",
      "[0 0 0 0 0 0 0 0 0 0]\n",
      "[0 0 0 0 0 0 0 0 0 0]\n",
      "[0 0 0 0 0 0 0 0 0 0]\n"
     ]
    }
   ],
   "source": [
    "print(pred(W[-1],X_train))\n",
    "print(pred(W[-1],X_train)[:10])\n",
    "print(pred(W[-1],X_train)[1000:1010])\n",
    "print(pred(W[-1],X_train)[2000:2010])"
   ],
   "metadata": {
    "collapsed": false,
    "ExecuteTime": {
     "end_time": "2023-05-25T22:04:08.428111200Z",
     "start_time": "2023-05-25T22:04:08.306829100Z"
    }
   }
  },
  {
   "cell_type": "code",
   "execution_count": 79,
   "outputs": [
    {
     "name": "stdout",
     "output_type": "stream",
     "text": [
      "Train accuracy: 0.33266666666666667\n"
     ]
    }
   ],
   "source": [
    "from sklearn.metrics import accuracy_score, recall_score, precision_score, confusion_matrix\n",
    "y_train_pred  = pred(W[-1], X_train)\n",
    "# Calculate the accuracy of the model\n",
    "accuracy = accuracy_score(y_train, y_train_pred[:3000])\n",
    "print(\"Train accuracy:\", accuracy)"
   ],
   "metadata": {
    "collapsed": false,
    "ExecuteTime": {
     "end_time": "2023-05-25T22:00:24.825151900Z",
     "start_time": "2023-05-25T22:00:24.777771900Z"
    }
   }
  }
 ],
 "metadata": {
  "kernelspec": {
   "display_name": "Python 3",
   "language": "python",
   "name": "python3"
  },
  "language_info": {
   "codemirror_mode": {
    "name": "ipython",
    "version": 2
   },
   "file_extension": ".py",
   "mimetype": "text/x-python",
   "name": "python",
   "nbconvert_exporter": "python",
   "pygments_lexer": "ipython2",
   "version": "2.7.6"
  }
 },
 "nbformat": 4,
 "nbformat_minor": 0
}
