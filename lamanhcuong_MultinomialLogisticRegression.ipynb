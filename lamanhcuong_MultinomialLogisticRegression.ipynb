{
 "cells": [
  {
   "cell_type": "code",
   "execution_count": null,
   "id": "43823812",
   "metadata": {},
   "outputs": [],
   "source": [
    "#vd2"
   ]
  },
  {
   "cell_type": "code",
   "execution_count": null,
   "id": "2aaf2a1a",
   "metadata": {},
   "outputs": [],
   "source": [
    "#bai tap tu thuc hanh 4\n",
    "1.\n"
   ]
  },
  {
   "cell_type": "code",
   "execution_count": 1,
   "id": "e0969bbf",
   "metadata": {},
   "outputs": [
    {
     "data": {
      "image/png": "[encoded data removed]",
      "text/plain": [
       "<Figure size 640x480 with 1 Axes>"
      ]
     },
     "metadata": {},
     "output_type": "display_data"
    }
   ],
   "source": [
    "import pandas as pd\n",
    "from sklearn.decomposition import PCA as sklearnPCA\n",
    "import numpy as np\n",
    "import matplotlib.pyplot as plt\n",
    "from sklearn import datasets\n",
    "from sklearn.preprocessing import StandardScaler\n",
    "\n",
    "# import some data to play with\n",
    "iris = datasets.load_iris()\n",
    "X = iris.data[:, :4] # we take full 4 features\n",
    "Y = iris.target\n",
    "# Normalize data\n",
    "X_norm = (X - X.min())/(X.max() - X.min())\n",
    "pca = sklearnPCA(n_components=2) #2-dimensional PCA\n",
    "transformed = pd.DataFrame(pca.fit_transform(X_norm))\n",
    "plt.axis(\"off\")\n",
    "plt.scatter(transformed[Y==0][0], transformed[Y==0][1], s=9, label='IRIS Setosa',c='red')\n",
    "plt.scatter(transformed[Y==1][0], transformed[Y==1][1], s=9, label='IRIS Versicolor',c='green', marker=\"^\")\n",
    "\n",
    "plt.scatter(transformed[Y==2][0], transformed[Y==2][1], s=9, label='IRIS Virginica',c='blue', marker=\"s\")\n",
    "plt.legend()\n",
    "plt.show()"
   ]
  },
  {
   "cell_type": "code",
   "execution_count": null,
   "id": "5ef71b80",
   "metadata": {},
   "outputs": [],
   "source": [
    "#2.\n",
    "#Với đoạn chương trình đọc dữ liệu đã có, hãy chạy lại ví dụ này với các thư viện của gói linear_model, lớp LogisticRegression và so sánh kết quả."
   ]
  },
  {
   "cell_type": "code",
   "execution_count": 10,
   "id": "a5cec6bd",
   "metadata": {},
   "outputs": [
    {
     "name": "stdout",
     "output_type": "stream",
     "text": [
      "Accuracy: 0.9777777777777777\n"
     ]
    }
   ],
   "source": [
    "from sklearn.datasets import load_iris\n",
    "from sklearn.preprocessing import StandardScaler\n",
    "from sklearn.model_selection import train_test_split\n",
    "from sklearn.linear_model import LogisticRegression\n",
    "from sklearn.metrics import accuracy_score\n",
    "\n",
    "# Load and normalize data\n",
    "X, y = load_iris(return_X_y=True)\n",
    "\n",
    "# create objects to normalize data\n",
    "scaler = StandardScaler()\n",
    "\n",
    "# normalize X\n",
    "X = scaler.fit_transform(X)\n",
    "\n",
    "# Split data into train and test sets\n",
    "X_train, X_test, y_train, y_test = train_test_split(X, y, test_size=0.3, random_state=0)\n",
    "\n",
    "# Train a logistic regression model\n",
    "clf = LogisticRegression(random_state=0)\n",
    "clf.fit(X_train, y_train)\n",
    "\n",
    "# Make predictions and evaluate accuracy\n",
    "y_pred = clf.predict(X_test)\n",
    "accuracy = accuracy_score(y_test, y_pred)\n",
    "print(\"Accuracy:\", accuracy)\n"
   ]
  },
  {
   "cell_type": "code",
   "execution_count": 2,
   "id": "4db01d05",
   "metadata": {},
   "outputs": [],
   "source": [
    "#a) Chương trình tự xây dựng các hàm/phương thức từ thư viện cơ bản (bài tập tự thực hành 1):"
   ]
  },
  {
   "cell_type": "code",
   "execution_count": 3,
   "id": "1fca93ef",
   "metadata": {},
   "outputs": [
    {
     "name": "stdout",
     "output_type": "stream",
     "text": [
      "Accuracy:  1.0\n",
      "Confusion matrix: \n",
      " [[10  0  0]\n",
      " [ 0 10  0]\n",
      " [ 0  0 10]]\n"
     ]
    }
   ],
   "source": [
    "from sklearn.model_selection import train_test_split\n",
    "from sklearn import linear_model\n",
    "\n",
    "#chia theo tỉ lệ: train:validation = 4:1 (phân chia đều theo mỗi loại hoa)\n",
    "X_train, X_test, y_train, y_test = train_test_split(X_norm, Y, test_size=0.2, random_state=42, stratify=Y)\n",
    "\n",
    "linear_classifier = linear_model.LinearRegression()\n",
    "linear_classifier.fit(X_train, y_train)\n",
    "y_pred = linear_classifier.predict(X_test)\n",
    "\n",
    "from sklearn.metrics import accuracy_score, confusion_matrix\n",
    "\n",
    "np.round(y_pred)\n",
    "print('Accuracy: ', accuracy_score(y_test, np.round(y_pred)))\n",
    "print('Confusion matrix: \\n', confusion_matrix(y_test, np.round(y_pred)))"
   ]
  },
  {
   "cell_type": "code",
   "execution_count": null,
   "id": "2238c443",
   "metadata": {},
   "outputs": [],
   "source": [
    "#b) Chương trình Python với các hàm/phương thức từ thư viện Scikit-Learn"
   ]
  },
  {
   "cell_type": "code",
   "execution_count": 5,
   "id": "1873d0e2",
   "metadata": {},
   "outputs": [
    {
     "name": "stdout",
     "output_type": "stream",
     "text": [
      "Accuracy:  0.9666666666666667\n",
      "Confusion Matrix: \n",
      " [[14  0  0]\n",
      " [ 0  7  1]\n",
      " [ 0  0  8]]\n"
     ]
    }
   ],
   "source": [
    "import pandas as pd\n",
    "import matplotlib.pyplot as plt\n",
    "import numpy as np\n",
    "import sklearn\n",
    "#from sklearn.preprocessing import StandardScaler\n",
    "from sklearn.linear_model import LogisticRegression\n",
    "from sklearn.datasets import load_iris\n",
    "iris=load_iris()\n",
    "# print(iris)\n",
    "X=iris.data # Observed variable\n",
    "Y=iris.target # Dependent variable (label)\n",
    "\n",
    "#print(X.shape)\n",
    "#print(Y.shape)\n",
    "# Splitting Train and test Data\n",
    "X_train,X_test,Y_train,Y_test=sklearn.model_selection.train_test_split(X,Y,test_size=0.2,\n",
    "random_state=2)\n",
    "\n",
    "#sc=StandardScaler()\n",
    "#X_train=sc.fit_transform(X_train)\n",
    "#X_test=sc.transform(X_test)\n",
    "# Call to Logistic Regression Model - SAG: solving is based on Stochastic Average Gradient\n",
    "lorg=LogisticRegression(multi_class='multinomial',solver='sag', max_iter=5000)\n",
    "# and train model by Training Dataset\n",
    "lorg.fit(X_train,Y_train)\n",
    "# Then Predict the Test data\n",
    "Y_pred=lorg.predict(X_test)\n",
    "\n",
    "from sklearn.metrics import accuracy_score, confusion_matrix\n",
    "print('Accuracy: ', accuracy_score(Y_test, Y_pred))\n",
    "print('Confusion Matrix: \\n', confusion_matrix(Y_test, Y_pred))"
   ]
  },
  {
   "cell_type": "code",
   "execution_count": 6,
   "id": "1b1229ff",
   "metadata": {},
   "outputs": [
    {
     "name": "stdout",
     "output_type": "stream",
     "text": [
      "0.9666666666666667\n",
      "[[14  0  0]\n",
      " [ 0  7  1]\n",
      " [ 0  0  8]]\n",
      "[0 0 2 0 0 2 0 2 2 0 0 0 0 0 1 1 0 1 2 1 2 1 2 1 1 0 0 2 0 2]\n"
     ]
    }
   ],
   "source": [
    "import pandas as pd\n",
    "import matplotlib.pyplot as plt\n",
    "import numpy as np\n",
    "import sklearn\n",
    "#from sklearn.preprocessing import StandardScaler\n",
    "from sklearn.linear_model import LogisticRegression\n",
    "from sklearn.datasets import load_iris\n",
    "iris=load_iris()\n",
    "# print(iris)\n",
    "X=iris.data # Observed variable\n",
    "Y=iris.target # Dependent variable (label)\n",
    "#print(X.shape)\n",
    "#print(Y.shape)\n",
    "# Splitting Train and test Data\n",
    "X_train,X_test,Y_train,Y_test=sklearn.model_selection.train_test_split(X,Y,test_size=0.2,\n",
    "random_state=2)\n",
    "\n",
    "# sc = StandardScaler()\n",
    "# X_train=sc.fit_transform(X_train)\n",
    "# X_test=sc.transform(X_test)\n",
    "# Call to Logistic Regression Model - SAG: solving is based on Stochastic Average Gradient\n",
    "lorg=LogisticRegression(multi_class='multinomial',solver='sag', max_iter=5000)\n",
    "# and train model by Training Dataset\n",
    "lorg.fit(X_train,Y_train)\n",
    "# Then Predict the Test data\n",
    "Y_pred=lorg.predict(X_test)\n",
    "# for accuracy\n",
    "from sklearn.metrics import accuracy_score\n",
    "print(accuracy_score(Y_test,Y_pred))\n",
    "# for confusion matrix\n",
    "from sklearn.metrics import confusion_matrix\n",
    "cm=confusion_matrix(Y_test,Y_pred)\n",
    "print(cm)\n",
    "\n",
    "#\n",
    "logrec = LogisticRegression()\n",
    "A = logrec.fit(X_train, Y_train)\n",
    "Y_predict = logrec.predict(X_test)\n",
    "print(Y_predict)\n"
   ]
  },
  {
   "cell_type": "code",
   "execution_count": null,
   "id": "22eec3f9",
   "metadata": {},
   "outputs": [],
   "source": [
    "Ví dụ 3 (Bài tập tự thực hành 2)"
   ]
  },
  {
   "cell_type": "code",
   "execution_count": 6,
   "id": "b19fcecb",
   "metadata": {},
   "outputs": [],
   "source": [
    "import sklearn\n",
    "import numpy as np\n",
    "from sklearn.model_selection import train_test_split\n",
    "from sklearn.datasets import fetch_20newsgroups_vectorized\n",
    "n_samples = 20000\n",
    "X, y = fetch_20newsgroups_vectorized(subset='all', return_X_y=True)\n",
    "X = X[:n_samples]\n",
    "y = y[:n_samples]\n",
    "X_train, X_test, y_train, y_test = sklearn.model_selection.train_test_split(X, y, random_state=42,stratify=y, test_size=0.1)\n",
    "\n",
    "train_samples, n_features = X_train.shape\n",
    "n_classes = np.unique(y).shape[0]"
   ]
  },
  {
   "cell_type": "code",
   "execution_count": 8,
   "id": "c5dfde33",
   "metadata": {},
   "outputs": [
    {
     "name": "stdout",
     "output_type": "stream",
     "text": [
      "Accuracy:  0.823342175066313\n",
      "Confusion Matrix: \n",
      " [[68  0  0  0  0  0  0  0  0  1  0  1  0  1  0  4  0  2  0  3]\n",
      " [ 0 79  3  1  0  5  2  0  0  0  0  1  1  1  1  1  0  1  0  1]\n",
      " [ 0  5 78  6  1  4  2  0  1  0  0  0  1  0  1  0  0  0  0  0]\n",
      " [ 0  4  8 67  4  1  4  1  1  0  0  1  3  2  0  0  0  1  1  0]\n",
      " [ 0  3  2  8 74  1  2  0  0  0  0  0  3  0  0  1  1  1  0  0]\n",
      " [ 0  4  7  3  1 81  0  1  1  1  0  0  0  0  0  0  0  0  0  0]\n",
      " [ 0  0  0  2  2  2 82  4  0  1  1  1  1  1  0  1  0  0  0  0]\n",
      " [ 0  1  0  0  0  0  2 92  0  0  0  0  1  2  1  0  0  0  0  0]\n",
      " [ 0  0  0  0  1  0  3  6 86  1  0  0  0  1  1  0  0  0  1  0]\n",
      " [ 0  1  0  1  0  1  2  0  0 87  4  0  0  3  0  0  0  0  0  0]\n",
      " [ 0  0  0  0  0  0  4  0  0  3 92  0  0  0  0  0  0  0  1  0]\n",
      " [ 0  2  0  1  1  4  2  0  1  2  1 82  0  0  0  0  2  1  0  0]\n",
      " [ 0  4  0  1  1  1  2  4  0  0  0  0 84  0  1  0  0  0  0  0]\n",
      " [ 0  1  0  0  0  0  3  3  2  1  0  1  1 80  3  1  0  2  1  0]\n",
      " [ 1  1  0  0  1  2  2  0  0  0  0  0  0  3 88  1  0  0  0  0]\n",
      " [ 2  3  0  0  1  3  0  0  0  0  1  0  1  0  0 87  0  1  0  1]\n",
      " [ 0  0  0  0  1  1  0  0  0  1  0  1  3  1  1  0 80  1  1  0]\n",
      " [ 0  0  0  0  0  2  0  0  1  2  0  1  1  1  1  1  0 82  2  0]\n",
      " [ 1  0  0  0  0  0  1  0  1  2  1  0  1  1  1  1 11  1 55  0]\n",
      " [ 7  0  0  0  0  0  0  0  0  0  0  2  1  5  1 14  3  1  1 28]]\n"
     ]
    }
   ],
   "source": [
    "from sklearn.metrics import accuracy_score, confusion_matrix\n",
    "from sklearn import linear_model\n",
    "\n",
    "LogReg = linear_model.LogisticRegression(solver='sag', multi_class='multinomial', max_iter=10000)\n",
    "LogReg.fit(X_train, y_train)\n",
    "y_pred = LogReg.predict(X_test)\n",
    "print('Accuracy: ', accuracy_score(y_test, y_pred))\n",
    "print('Confusion Matrix: \\n', confusion_matrix(y_test, y_pred))"
   ]
  },
  {
   "cell_type": "code",
   "execution_count": 7,
   "id": "57f5a317",
   "metadata": {},
   "outputs": [],
   "source": [
    "#vd4"
   ]
  },
  {
   "cell_type": "code",
   "execution_count": 9,
   "id": "c39a970b",
   "metadata": {},
   "outputs": [
    {
     "name": "stdout",
     "output_type": "stream",
     "text": [
      "<class 'pandas.core.frame.DataFrame'>\n",
      "RangeIndex: 214 entries, 0 to 213\n",
      "Data columns (total 11 columns):\n",
      " #   Column     Non-Null Count  Dtype  \n",
      "---  ------     --------------  -----  \n",
      " 0   Id_Number  214 non-null    int64  \n",
      " 1   RI         214 non-null    float64\n",
      " 2   Na         214 non-null    float64\n",
      " 3   Mg         214 non-null    float64\n",
      " 4   Al         214 non-null    float64\n",
      " 5   Si         214 non-null    float64\n",
      " 6   K          214 non-null    float64\n",
      " 7   Ca         214 non-null    float64\n",
      " 8   Ba         214 non-null    float64\n",
      " 9   Fe         214 non-null    float64\n",
      " 10  Type       214 non-null    int64  \n",
      "dtypes: float64(9), int64(2)\n",
      "memory usage: 18.5 KB\n",
      "None\n",
      "[1 2 3 5 6 7]\n",
      "2    76\n",
      "1    70\n",
      "7    29\n",
      "3    17\n",
      "5    13\n",
      "6     9\n",
      "Name: Type, dtype: int64\n",
      "Predictions:  [1 7 1 7 2 2 1 2 2 2 6 5 2 2 6 5 7 1 1 6 2 7 7 7 3 2 1 1 5 1 1 2 3 2 1 7 5\n",
      " 3 2 2 2 7 1 2 3 2 2 2 2 2 1 1 1 2]\n",
      "Accuracy:  1.0\n",
      "Confusion matrix: \n",
      " Predicted   1   2  3  5  6  7\n",
      "Actual                       \n",
      "1          14   0  0  0  0  0\n",
      "2           0  21  0  0  0  0\n",
      "3           0   0  4  0  0  0\n",
      "5           0   0  0  4  0  0\n",
      "6           0   0  0  0  3  0\n",
      "7           0   0  0  0  0  8\n"
     ]
    }
   ],
   "source": [
    "from matplotlib import pyplot as plt\n",
    "import numpy as np  # linear algebra\n",
    "import pandas as pd  # data processing, CSV file I/O (e.g. pd.read_csv)\n",
    "\n",
    "# change file_data to where did you put it!\n",
    "file_data = 'glass.csv'\n",
    "glass_df = pd.read_csv(file_data)\n",
    "print(glass_df.info())\n",
    "glass_types = glass_df['Type'].unique()\n",
    "print(glass_types)\n",
    "print(glass_df['Type'].value_counts())\n",
    "X_1 = glass_df[glass_df.columns[:-1]]\n",
    "y_1 = glass_df['Type']\n",
    "\n",
    "from sklearn.model_selection import train_test_split\n",
    "\n",
    "X_train, X_test, y_train, y_test = train_test_split(X_1, y_1, test_size=0.25, random_state=42)\n",
    "\n",
    "from sklearn.linear_model import LogisticRegression\n",
    "from sklearn.metrics import confusion_matrix\n",
    "\n",
    "logisticRegr = LogisticRegression(max_iter=10000,solver='sag',multi_class='multinomial')\n",
    "logisticRegr.fit(X_train, y_train)\n",
    "predictions = logisticRegr.predict(X_test)\n",
    "print('Predictions: ', predictions)\n",
    "\n",
    "# so sánh với dữ liệu gốc để đưa ra độ chính xác, ma trận confusion matrix.\n",
    "score = logisticRegr.score(X_test, y_test)\n",
    "print('Accuracy: ', score)\n",
    "table = pd.crosstab(y_test, predictions, rownames=['Actual'], colnames=['Predicted'])\n",
    "print('Confusion matrix: \\n', table)"
   ]
  },
  {
   "cell_type": "code",
   "execution_count": null,
   "id": "d18ba339",
   "metadata": {},
   "outputs": [],
   "source": [
    "#vd4\n",
    "'''\n",
    "1.Đoạn code đọc tệp dữ liệu, giải nén và chuyển các đoạn ứng với mỗi ảnh sang một ma trận số:\n",
    "    Khai báo thư viện và đường dẫn đến tệp dữ liệu. Cần sửa đường dẫn này đến vị trí đặt dữ liệu cụ thể.\n",
    "'''"
   ]
  },
  {
   "cell_type": "code",
   "execution_count": 1,
   "id": "0b8fffa1",
   "metadata": {},
   "outputs": [],
   "source": [
    "import os\n",
    "import numpy as np\n",
    "# set names to the paths because they're too long\n",
    "data_path = 'C:\\\\Users\\\\TGDD\\\\Desktop\\\\học máy\\\\week4\\\\image data'\n",
    "# train path\n",
    "train_images_path = os.path.join(data_path, 'train-images-idx3-ubyte.gz')\n",
    "train_labels_path = os.path.join(data_path, 'train-labels-idx1-ubyte.gz')\n",
    "# test path\n",
    "test_images_path = os.path.join(data_path, 't10k-images-idx3-ubyte.gz')\n",
    "test_labels_path = os.path.join(data_path, 't10k-labels-idx1-ubyte.gz')"
   ]
  },
  {
   "cell_type": "code",
   "execution_count": null,
   "id": "0c2f387e",
   "metadata": {},
   "outputs": [],
   "source": [
    "#Xây dựng phương thức đọc dữ liệu từ tệp gzip, giải nén và đưa về định dạng là một dãy ảnh (một dãy ma trận nguyên)"
   ]
  },
  {
   "cell_type": "code",
   "execution_count": 2,
   "id": "a4924795",
   "metadata": {},
   "outputs": [],
   "source": [
    "def get_mnist_data(images_path, labels_path, num_images, shuffle=False, _is=True, image_size=28):\n",
    "    \"\"\"\n",
    "This shuffle param is active when .gz is downloaded at:\n",
    "- 'http://yann.lecun.com/exdb/mnist/'\n",
    "- This function return random num_images in 60000 or 10000\n",
    "    \"\"\"\n",
    "    # read data\n",
    "    import gzip  # to decompress gz (zip) file\n",
    "\n",
    "    # open file training to read training data\n",
    "    f_images = gzip.open(images_path,'r')\n",
    "\n",
    "    # skip 16 first bytes because these are not data, only header infor\n",
    "    f_images.read(16)\n",
    "\n",
    "    # general: read num_images data samples if this parameter is set;\n",
    "    # if not, read all (60000 training or 10000 test)\n",
    "    real_num = num_images if not shuffle else (60000 if _is else 10000)\n",
    "\n",
    "    # read all data to buf_images (28x28xreal_num)\n",
    "    buf_images = f_images.read(image_size * image_size * real_num)\n",
    "\n",
    "    # images\n",
    "    images = np.frombuffer(buf_images, dtype=np.uint8).astype(np.float32)\n",
    "    images = images.reshape(real_num, image_size, image_size,)\n",
    "\n",
    "    # Read labels\n",
    "    f_labels = gzip.open(labels_path,'r')\n",
    "    f_labels.read(8)\n",
    "    labels = np.zeros((real_num)).astype(np.int64)\n",
    "\n",
    "    # rearrange to correspond the images and labels\n",
    "    for i in range(0, real_num):\n",
    "        buf_labels = f_labels.read(1)\n",
    "        labels[i] = np.frombuffer(buf_labels, dtype=np.uint8).astype(np.int64)\n",
    "\n",
    "    # shuffle to get random images data\n",
    "    if shuffle is True:\n",
    "        rand_id = np.random.randint(real_num, size=num_images)\n",
    "\n",
    "        images = images[rand_id, :]\n",
    "        labels = labels[rand_id,]\n",
    "\n",
    "    # change images data to type of vector 28x28 dimentional\n",
    "    images = images.reshape(num_images, image_size * image_size)\n",
    "    return images, labels"
   ]
  },
  {
   "cell_type": "code",
   "execution_count": null,
   "id": "230318fa",
   "metadata": {},
   "outputs": [],
   "source": [
    "#Gọi phương thức đọc dữ liệu để kiếm tra xem đọc đúng hay không:"
   ]
  },
  {
   "cell_type": "code",
   "execution_count": 3,
   "id": "9dd8ee0b",
   "metadata": {},
   "outputs": [
    {
     "name": "stdout",
     "output_type": "stream",
     "text": [
      "(5000, 784) (5000,)\n",
      "(10000, 784) (10000,)\n"
     ]
    }
   ],
   "source": [
    "train_images, train_labels = get_mnist_data(train_images_path, train_labels_path, 5000, shuffle=True)\n",
    "test_images, test_labels = get_mnist_data(test_images_path, test_labels_path, 10000, _is=False, shuffle=True)\n",
    "print(train_images.shape, train_labels.shape)\n",
    "print(test_images.shape, test_labels.shape)"
   ]
  },
  {
   "cell_type": "code",
   "execution_count": null,
   "id": "bfad9c85",
   "metadata": {},
   "outputs": [],
   "source": [
    "#Đoạn chương trình chứa các phương thức tự xây dựng cho hồi quy logistic nhiều lớp đã có từ Ví dụ 1"
   ]
  },
  {
   "cell_type": "code",
   "execution_count": 4,
   "id": "c48b4f41",
   "metadata": {},
   "outputs": [],
   "source": [
    "# Convert matrix to image\n",
    "def get_image(image):\n",
    "    return image.reshape(28, 28)\n",
    "\n",
    "# These methods are from Vi du 1\n",
    "def convert_labels(y, C):\n",
    "    from scipy import sparse\n",
    "    Y = sparse.coo_matrix((np.ones_like(y),(y, np.arange(len(y)))), shape = (C, len(y))).toarray()\n",
    "    return Y\n",
    "\n",
    "def softmax(Z):\n",
    "    e_Z = np.exp(Z)\n",
    "    A = e_Z / e_Z.sum(axis = 0)\n",
    "    return A\n",
    "\n",
    "def softmax_stable(Z):\n",
    "    e_Z = np.exp(Z - np.max(Z, axis = 0, keepdims = True))\n",
    "    A = e_Z / e_Z.sum(axis = 0)\n",
    "    return A\n",
    "\n",
    "def pred(W, X):\n",
    "    A = softmax_stable(W.T.dot(X))\n",
    "    return np.argmax(A, axis = 0)"
   ]
  },
  {
   "cell_type": "code",
   "execution_count": null,
   "id": "2708d888",
   "metadata": {},
   "outputs": [],
   "source": [
    "#Đoạn chương trình chứa thủ tục tính toán theo phương pháp lặp Gradient Descent ngẫu nhiên trong mô hình hồi quy logistic cho dữ liệu nhiều lớp."
   ]
  },
  {
   "cell_type": "code",
   "execution_count": 5,
   "id": "52aa0e4e",
   "metadata": {},
   "outputs": [],
   "source": [
    "def _softmax_regression(X, Y, theta, lambda_=0.5,iterations=20, learning_rate=1e-5, batch_size=200):\n",
    "    from sklearn.metrics import log_loss\n",
    "\n",
    "    losses = []\n",
    "    _theta = theta\n",
    "    d, N = X.shape\n",
    "\n",
    "    for iter_ in range(iterations):\n",
    "        shuffle_index = np.random.permutation(N)\n",
    "        for i in shuffle_index:\n",
    "            xi = X[:, i].reshape(d, 1)\n",
    "        yi = Y[:, i].reshape(10, 1)\n",
    "        ai = softmax_stable(np.dot(_theta.T, xi))\n",
    "        _theta += learning_rate * xi.dot((yi - ai).T)\n",
    "        if (iter_ * N + i) % batch_size == 0:\n",
    "            Y_hat = np.dot(_theta.T, X)\n",
    "            losses.append(log_loss(Y, Y_hat))\n",
    "            \n",
    "        Y_hat = np.dot(_theta.T, X)\n",
    "        print(f\"epoch {iter_} - cost {log_loss(Y, Y_hat) / N}\")\n",
    "    return _theta, losses"
   ]
  },
  {
   "cell_type": "code",
   "execution_count": null,
   "id": "0f91abcf",
   "metadata": {},
   "outputs": [],
   "source": [
    "#In thử một vài ảnh để kiểm tra dữ liệu"
   ]
  },
  {
   "cell_type": "code",
   "execution_count": 6,
   "id": "f371aa3f",
   "metadata": {},
   "outputs": [
    {
     "name": "stdout",
     "output_type": "stream",
     "text": [
      "9 4\n"
     ]
    },
    {
     "data": {
      "text/plain": [
       "<Figure size 640x480 with 0 Axes>"
      ]
     },
     "metadata": {},
     "output_type": "display_data"
    },
    {
     "data": {
      "image/png": "[encoded data removed]",
      "text/plain": [
       "<Figure size 640x480 with 2 Axes>"
      ]
     },
     "metadata": {},
     "output_type": "display_data"
    }
   ],
   "source": [
    "# for display and test digit :D\n",
    "import random\n",
    "import matplotlib.pyplot as plt\n",
    "index = random.randint(0, 1000)\n",
    "print(train_labels[index], test_labels[index])\n",
    "train_image = np.asarray(get_image(train_images[index])).squeeze()\n",
    "test_image = np.asarray(get_image(test_images[index])).squeeze()\n",
    "plt.figure()\n",
    "\n",
    "#subplot(r,c) provide the no. of rows and columns\n",
    "f, axarr = plt.subplots(1, 2)\n",
    "\n",
    "# use the created array to output your multiple images. In this case I have stacked 4 images vertically\n",
    "axarr[0].imshow(train_image)\n",
    "axarr[1].imshow(test_image)\n",
    "plt.show()"
   ]
  },
  {
   "cell_type": "code",
   "execution_count": null,
   "id": "c352a6c5",
   "metadata": {},
   "outputs": [],
   "source": [
    "#Chuẩn bị dữ liệu huấn luyện"
   ]
  },
  {
   "cell_type": "code",
   "execution_count": 7,
   "id": "21ba452d",
   "metadata": {},
   "outputs": [
    {
     "name": "stdout",
     "output_type": "stream",
     "text": [
      "(785, 5000)\n",
      "(10, 5000)\n"
     ]
    },
    {
     "data": {
      "text/plain": [
       "<Figure size 640x480 with 0 Axes>"
      ]
     },
     "metadata": {},
     "output_type": "display_data"
    },
    {
     "data": {
      "image/png": "[encoded data removed]",
      "text/plain": [
       "<Figure size 640x480 with 2 Axes>"
      ]
     },
     "metadata": {},
     "output_type": "display_data"
    }
   ],
   "source": [
    "X_train = np.concatenate((np.ones((1, train_images.shape[0])), train_images.T), axis = 0)\n",
    "\n",
    "Y_train = convert_labels(train_labels, 10)\n",
    "print(X_train.shape)\n",
    "print(Y_train.shape)\n",
    "train_image = np.asarray(get_image(train_images[index])).squeeze()\n",
    "test_image = np.asarray(get_image(test_images[index])).squeeze()\n",
    "plt.figure()\n",
    "#subplot(r,c) provide the no. of rows and columns\n",
    "f, axarr = plt.subplots(1, 2)\n",
    "# use the created array to output your multiple images. In this case I have stacked 4 images vertically\n",
    "axarr[0].imshow(train_image)\n",
    "axarr[1].imshow(test_image)\n",
    "plt.show()"
   ]
  },
  {
   "cell_type": "code",
   "execution_count": null,
   "id": "1522b768",
   "metadata": {},
   "outputs": [],
   "source": [
    "#Chạy quá trình training và in ra loss function"
   ]
  },
  {
   "cell_type": "code",
   "execution_count": 8,
   "id": "03b676a9",
   "metadata": {},
   "outputs": [
    {
     "name": "stdout",
     "output_type": "stream",
     "text": [
      "epoch 0 - cost 0.8517193191416238\n",
      "epoch 1 - cost 1.0890656900209066\n",
      "epoch 2 - cost 0.9274807699602399\n",
      "epoch 3 - cost 1.130563404940529\n",
      "epoch 4 - cost 1.3026365593776823\n",
      "epoch 5 - cost 1.3805952629923326\n",
      "epoch 6 - cost 1.3026782767969405\n",
      "epoch 7 - cost 1.581510316816399\n",
      "epoch 8 - cost 1.3166259364151705\n",
      "epoch 9 - cost 1.31663810700508\n",
      "epoch 10 - cost 1.3134273591549583\n",
      "epoch 11 - cost 1.4025139107490032\n",
      "epoch 12 - cost 1.4203471287084772\n",
      "epoch 13 - cost 1.4153308976847587\n",
      "epoch 14 - cost 1.3668300389312058\n",
      "epoch 15 - cost 1.3668442917315042\n",
      "epoch 16 - cost 1.3668442917315125\n",
      "epoch 17 - cost 1.6198502429573989\n",
      "epoch 18 - cost 1.6108489372748207\n",
      "epoch 19 - cost 1.4061550890050067\n",
      "training success:  (785, 10) 0\n"
     ]
    }
   ],
   "source": [
    "theta = np.zeros((X_train.shape[0], 10))\n",
    "\n",
    "opt_theta, losses = _softmax_regression(X_train, Y_train, theta)\n",
    "print('training success: ', opt_theta.shape, len(losses))"
   ]
  },
  {
   "cell_type": "code",
   "execution_count": null,
   "id": "226c2b7c",
   "metadata": {},
   "outputs": [],
   "source": [
    "#Tính các thông số về độ chính xác (gọi thư viện để chương trình không quá dài)"
   ]
  },
  {
   "cell_type": "code",
   "execution_count": 9,
   "id": "11064b85",
   "metadata": {},
   "outputs": [
    {
     "name": "stdout",
     "output_type": "stream",
     "text": [
      "accuracy training data:  0.3142\n",
      "(785, 10000)\n",
      "accuracy testing data:  0.3149\n"
     ]
    }
   ],
   "source": [
    "from sklearn.metrics import accuracy_score\n",
    "print('accuracy training data: ', accuracy_score(train_labels, pred(opt_theta, X_train)))\n",
    "\n",
    "# test_images, test_labels = get_mnist_data(\n",
    "# test_images_path, test_labels_path, 1000, _is=False, shuffle=False)\n",
    "X_test = np.concatenate((np.ones((1, test_images.shape[0])), test_images.T), axis = 0)\n",
    "\n",
    "print(X_test.shape)\n",
    "print('accuracy testing data: ', accuracy_score(test_labels, pred(opt_theta, X_test)))"
   ]
  }
 ],
 "metadata": {
  "kernelspec": {
   "display_name": "Python 3 (ipykernel)",
   "language": "python",
   "name": "python3"
  },
  "language_info": {
   "codemirror_mode": {
    "name": "ipython",
    "version": 3
   },
   "file_extension": ".py",
   "mimetype": "text/x-python",
   "name": "python",
   "nbconvert_exporter": "python",
   "pygments_lexer": "ipython3",
   "version": "3.9.13"
  }
 },
 "nbformat": 4,
 "nbformat_minor": 5
}
